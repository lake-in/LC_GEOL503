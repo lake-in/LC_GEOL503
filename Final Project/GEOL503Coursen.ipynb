{
 "cells": [
  {
   "cell_type": "markdown",
   "id": "45352a63-2be2-4898-aff9-4a032f0df2cc",
   "metadata": {},
   "source": [
    "# Modeling Chemical Weathering Feedbacks  \n",
    "**Laikyn Coursen**"
   ]
  },
  {
   "cell_type": "markdown",
   "id": "daa08015-edee-4a40-b7f4-aa7789708de1",
   "metadata": {},
   "source": [
    "This interactive model is designed to explore the chemical weathering feedback system and its role in regulating Earth’s climate. By adjusting key parameters such as carbon release from rocks, atmospheric carbon burial, and temperature sensitivity, the model demonstrates how changes in one part of the system impact the others over time. It provides a visual and intuitive way to understand the dynamic relationship between carbon reservoirs and climate feedbacks."
   ]
  },
  {
   "cell_type": "markdown",
   "id": "7af56757-cf7f-4e45-8489-959f6b5dfedd",
   "metadata": {},
   "source": [
    "### Key Code Sections\n",
    "\n",
    "**Imports**  \n",
    "Uses `numpy` for numerical operations, `matplotlib` for plotting, and `ipywidgets` to create interactive sliders.\n",
    "\n",
    "**Model Function (`weathering_model`)**  \n",
    "- **Initial Conditions**: Sets starting values for rock carbon, atmospheric carbon, and temperature.  \n",
    "- **Simulation Loop**: Iteratively updates the carbon values in rocks and atmosphere, as well as temperature, using simple feedback equations.  \n",
    "- **Plotting**: Visualizes the data with clearly labeled axes, a legend, and a grid to enhance readability.\n",
    "\n",
    "**Interactive Sliders**  \n",
    "- **`interact` Function**: Connects user-controlled sliders to model parameters (e.g., release rate, burial rate, temperature factor), allowing for dynamic exploration of the system in real time.\n"
   ]
  },
  {
   "cell_type": "code",
   "execution_count": null,
   "id": "0dbd44a1-25eb-4fef-9402-011541b21d79",
   "metadata": {},
   "outputs": [],
   "source": []
  },
  {
   "cell_type": "code",
   "execution_count": null,
   "id": "af91343e-674a-49b8-b866-bb739a082820",
   "metadata": {},
   "outputs": [],
   "source": []
  },
  {
   "cell_type": "code",
   "execution_count": null,
   "id": "f5265a4d-5566-4056-a0d8-77e91fc28921",
   "metadata": {},
   "outputs": [],
   "source": []
  },
  {
   "cell_type": "code",
   "execution_count": 47,
   "id": "8b995654-e9e9-4325-ac63-e3b7c29b6d37",
   "metadata": {},
   "outputs": [
    {
     "data": {
      "application/vnd.jupyter.widget-view+json": {
       "model_id": "e33caccc4b384d08af78894843b58c4f",
       "version_major": 2,
       "version_minor": 0
      },
      "text/plain": [
       "interactive(children=(FloatSlider(value=0.01, description='c1 (release)', max=0.05, min=0.001, step=0.001), Fl…"
      ]
     },
     "metadata": {},
     "output_type": "display_data"
    },
    {
     "data": {
      "text/plain": [
       "<function __main__.weathering_model(c1=0.01, c2=0.005, c3=0.02, rock_init=1000.0, atmo_init=300.0, timesteps=1000)>"
      ]
     },
     "execution_count": 47,
     "metadata": {},
     "output_type": "execute_result"
    }
   ],
   "source": [
    "import numpy as np  # Importing numpy for handling arrays and numerical operations\n",
    "import matplotlib.pyplot as plt  # Importing matplotlib for plotting the data\n",
    "from ipywidgets import interact, FloatSlider, IntSlider  # Importing widgets for interactive sliders\n",
    "\n",
    "# Chemical weathering model function\n",
    "def weathering_model(c1=0.01, c2=0.005, c3=0.02, rock_init=1000.0, atmo_init=300.0, timesteps=1000):\n",
    "    \"\"\"\n",
    "    This function simulates the chemical weathering feedback process.\n",
    "    \n",
    "    Inputs:\n",
    "    - c1 (float): Carbon release rate from rocks, determines the rate of carbon transfer from rocks to the atmosphere.\n",
    "    - c2 (float): Burial rate of atmospheric carbon, represents how much carbon is locked away from the atmosphere.\n",
    "    - c3 (float): Temperature factor, a multiplier to determine how temperature changes with atmospheric carbon.\n",
    "    - rock_init (float): Initial amount of carbon in the rocks (in gigatons).\n",
    "    - atmo_init (float): Initial amount of carbon in the atmosphere (in gigatons).\n",
    "    - timesteps (int): Number of time steps to run the model.\n",
    "\n",
    "    Outputs:\n",
    "    - A plot of the simulated carbon levels in rocks, the atmosphere, and temperature over time.\n",
    "    \"\"\"\n",
    "    time = np.arange(timesteps)  # Create an array of time steps (from 0 to timesteps-1)\n",
    "    \n",
    "    # Initialize arrays to hold values for rock carbon, atmospheric carbon, and temperature at each time step\n",
    "    rock, atmo, temp = np.zeros(timesteps), np.zeros(timesteps), np.zeros(timesteps)\n",
    "    \n",
    "    # Set initial conditions for the model (initial rock, atmosphere carbon, and temperature values)\n",
    "    rock[0], atmo[0], temp[0] = rock_init, atmo_init, c3 * atmo_init  # Starting temperature based on c3 * atmosphere carbon\n",
    "\n",
    "    # Loop to update the values of rock carbon, atmospheric carbon, and temperature over each time step\n",
    "    for i in range(1, timesteps):\n",
    "        # Update the amount of carbon in the rocks over time (releases carbon based on c1)\n",
    "        rock[i] = rock[i-1] - c1 * rock[i-1]\n",
    "        \n",
    "        # Update the amount of atmospheric carbon (adds carbon from rocks and subtracts burial)\n",
    "        atmo[i] = atmo[i-1] + c1 * rock[i-1] - c2 * atmo[i-1]\n",
    "        \n",
    "        # Update the temperature based on the new atmospheric carbon (multiplied by c3)\n",
    "        temp[i] = c3 * atmo[i-1]\n",
    "\n",
    "\n",
    "    # Plotting (color blind friendly)\n",
    "    fig, ax = plt.subplots(figsize=(12, 6))  # Create a new figure with specific size\n",
    "    ax.plot(time, rock, label='Carbon in Rocks', color='blue', linewidth=2)  # Plot the carbon in rocks over time\n",
    "    ax.plot(time, atmo, label='Carbon in Atmosphere', color='red', linewidth=2)  # Plot the atmospheric carbon over time\n",
    "    ax.plot(time, temp, label='Temperature', color='black', linestyle='--', linewidth=2)  # Plot temperature (dashed line)\n",
    "\n",
    "    # Adding labels, title, and legend to the plot for clarity\n",
    "    ax.set_xlabel('Time Step')  # Label for the x-axis (time step)\n",
    "    ax.set_ylabel('Relative Values (Carbon + Proxy Temp)')  # Label for the y-axis (carbon and temperature values)\n",
    "    ax.set_title('Chemical Weathering Feedback Model')  # Title of the plot\n",
    "    ax.legend()  # Display the legend to differentiate the lines\n",
    "    ax.grid(True)  # Add a grid to the background for easier visualization of the data\n",
    "    plt.tight_layout()  # Ensure the plot has proper padding and doesn't overlap\n",
    "    plt.show()  # Display the plot\n",
    "\n",
    "# Interactive sliders for adjusting the model parameters\n",
    "interact(\n",
    "    weathering_model,  # The function that will be called when sliders are adjusted\n",
    "    c1=FloatSlider(min=0.001, max=0.05, step=0.001, value=0.01, description='c1 (release)'),  # Slider for c1 (carbon release rate)\n",
    "    c2=FloatSlider(min=0.001, max=0.05, step=0.001, value=0.005, description='c2 (burial)'),  # Slider for c2 (carbon burial rate)\n",
    "    c3=FloatSlider(min=0.001, max=0.1, step=0.001, value=0.02, description='c3 (temp factor)'),  # Slider for c3 (temperature factor)\n",
    "    rock_init=FloatSlider(min=500, max=2000, step=50, value=1000, description='Initial Rock C'),  # Slider for initial carbon in rocks\n",
    "    atmo_init=FloatSlider(min=100, max=600, step=10, value=300, description='Initial Atmo C'),  # Slider for initial atmospheric carbon\n",
    "    timesteps=IntSlider(min=100, max=2000, step=100, value=500, description='Time Steps')  # Slider for number of time steps\n",
    ")\n"
   ]
  }
 ],
 "metadata": {
  "kernelspec": {
   "display_name": "Python [conda env:base] *",
   "language": "python",
   "name": "conda-base-py"
  },
  "language_info": {
   "codemirror_mode": {
    "name": "ipython",
    "version": 3
   },
   "file_extension": ".py",
   "mimetype": "text/x-python",
   "name": "python",
   "nbconvert_exporter": "python",
   "pygments_lexer": "ipython3",
   "version": "3.12.7"
  }
 },
 "nbformat": 4,
 "nbformat_minor": 5
}
