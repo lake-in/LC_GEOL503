{
 "cells": [
  {
   "cell_type": "markdown",
   "id": "45352a63-2be2-4898-aff9-4a032f0df2cc",
   "metadata": {},
   "source": [
    "# Modeling Chemical Weathering Feedbacks  \n",
    "**Laikyn Coursen**"
   ]
  },
  {
   "cell_type": "markdown",
   "id": "daa08015-edee-4a40-b7f4-aa7789708de1",
   "metadata": {},
   "source": [
    "This interactive model is designed to explore the chemical weathering feedback system and its role in regulating Earth’s climate. By adjusting key parameters such as carbon release from rocks, atmospheric carbon burial, and temperature sensitivity, the model demonstrates how changes in one part of the system impact the others over time. It provides a visual and intuitive way to understand the dynamic relationship between carbon reservoirs and climate feedbacks."
   ]
  },
  {
   "cell_type": "code",
   "execution_count": 30,
   "id": "45732757-26ad-4b6f-a39b-65d8adbf1fd4",
   "metadata": {},
   "outputs": [
    {
     "data": {
      "application/vnd.jupyter.widget-view+json": {
       "model_id": "a8956ced651a4bcfa5b4844d1fd577fd",
       "version_major": 2,
       "version_minor": 0
      },
      "text/plain": [
       "interactive(children=(FloatSlider(value=0.01, description='c1 (release)', max=0.05, min=0.001, step=0.001), Fl…"
      ]
     },
     "metadata": {},
     "output_type": "display_data"
    },
    {
     "data": {
      "text/plain": [
       "<function __main__.weathering_model(carbon_release_rate=0.01, burial_rate=0.005, temperature_factor=0.02, initial_rock_carbon=1000.0, initial_atmospheric_carbon=300.0, num_timesteps=1000)>"
      ]
     },
     "execution_count": 30,
     "metadata": {},
     "output_type": "execute_result"
    }
   ],
   "source": [
    "import numpy as np\n",
    "import matplotlib.pyplot as plt\n",
    "from ipywidgets import interact, FloatSlider, IntSlider\n",
    "\n",
    "# Chemical weathering model function\n",
    "def weathering_model(\n",
    "    carbon_release_rate=0.01,\n",
    "    burial_rate=0.005,\n",
    "    temperature_factor=0.02,\n",
    "    initial_rock_carbon=1000.0,\n",
    "    initial_atmospheric_carbon=300.0,\n",
    "    num_timesteps=1000\n",
    "):\n",
    "# Time steps for the simulation\n",
    "    time_array = np.arange(num_timesteps) \n",
    "    rock_carbon = np.zeros(num_timesteps)\n",
    "    atmospheric_carbon = np.zeros(num_timesteps)\n",
    "    temperature = np.zeros(num_timesteps)\n",
    "\n",
    "    # Initial conditions\n",
    "    rock_carbon[0] = initial_rock_carbon\n",
    "    atmospheric_carbon[0] = initial_atmospheric_carbon\n",
    "    temperature[0] = temperature_factor * initial_atmospheric_carbon\n",
    "\n",
    "    # Model loop to update values at each timestep\n",
    "    for i in range(1, num_timesteps):\n",
    "        rock_carbon[i] = rock_carbon[i-1] - carbon_release_rate * rock_carbon[i-1]\n",
    "        atmospheric_carbon[i] = (\n",
    "            atmospheric_carbon[i-1]\n",
    "            + carbon_release_rate * rock_carbon[i-1]\n",
    "            - burial_rate * atmospheric_carbon[i-1]\n",
    "        )\n",
    "        temperature[i] = temperature_factor * atmospheric_carbon[i-1]\n",
    "\n",
    "    # Plotting (simple and color-blind accessible)\n",
    "    fig, ax = plt.subplots(figsize=(12, 6))\n",
    "    fig.patch.set_facecolor('white')\n",
    "    ax.set_facecolor('white')\n",
    "\n",
    "    ax.plot(time_array, rock_carbon, label='Carbon in Rocks', color='blue', linewidth=2)\n",
    "    ax.plot(time_array, atmospheric_carbon, label='Carbon in Atmosphere', color='red', linewidth=2)\n",
    "    ax.plot(time_array, temperature, label='Temperature', color='black', linestyle='--', linewidth=2)\n",
    "\n",
    "    ax.set_xlabel('Time (Timesteps)')\n",
    "    ax.set_ylabel('Carbon Concentration / Temperature Proxy')\n",
    "    ax.set_title('Chemical Weathering Feedback Model')\n",
    "    ax.legend()\n",
    "\n",
    "    ax.grid(True, color='gray', linestyle='-', linewidth=0.5)\n",
    "\n",
    "    plt.tight_layout()\n",
    "    plt.show()\n",
    "\n",
    "# Interactive sliders for adjusting the model parameters\n",
    "interact(\n",
    "    weathering_model, \n",
    "    carbon_release_rate=FloatSlider(min=0.001, max=0.05, step=0.001, value=0.01, description='c1 (release)'),\n",
    "    burial_rate=FloatSlider(min=0.001, max=0.05, step=0.001, value=0.005, description='c2 (burial)'),\n",
    "    temperature_factor=FloatSlider(min=0.001, max=0.1, step=0.001, value=0.02, description='c3 (temp factor)'),\n",
    "    initial_rock_carbon=FloatSlider(min=500, max=2000, step=50, value=1000, description='Initial Rock C'),\n",
    "    initial_atmospheric_carbon=FloatSlider(min=100, max=600, step=10, value=300, description='Initial Atmo C'),\n",
    "    num_timesteps=IntSlider(min=100, max=2000, step=100, value=500, description='Time Steps')\n",
    ")"
   ]
  },
  {
   "cell_type": "markdown",
   "id": "7af56757-cf7f-4e45-8489-959f6b5dfedd",
   "metadata": {},
   "source": [
    "### Key Code Sections\n",
    "\n",
    "**Imports**  \n",
    "Uses `numpy` for numerical operations, `matplotlib` for plotting, and `ipywidgets` to create interactive sliders.\n",
    "\n",
    "**Model Function (`weathering_model`)**  \n",
    "- **Initial Conditions**: Sets starting values for rock carbon, atmospheric carbon, and temperature.  \n",
    "- **Simulation Loop**: Iteratively updates the carbon values in rocks and atmosphere, as well as temperature, using simple feedback equations.  \n",
    "- **Plotting**: Visualizes the data with clearly labeled axes, a legend, and a grid to enhance readability.\n",
    "\n",
    "**Interactive Sliders**  \n",
    "- **`interact` Function**: Connects user-controlled sliders to model parameters (e.g., release rate, burial rate, temperature factor), allowing for dynamic exploration of the system in real time.\n"
   ]
  }
 ],
 "metadata": {
  "kernelspec": {
   "display_name": "Python [conda env:base] *",
   "language": "python",
   "name": "conda-base-py"
  },
  "language_info": {
   "codemirror_mode": {
    "name": "ipython",
    "version": 3
   },
   "file_extension": ".py",
   "mimetype": "text/x-python",
   "name": "python",
   "nbconvert_exporter": "python",
   "pygments_lexer": "ipython3",
   "version": "3.12.7"
  }
 },
 "nbformat": 4,
 "nbformat_minor": 5
}
